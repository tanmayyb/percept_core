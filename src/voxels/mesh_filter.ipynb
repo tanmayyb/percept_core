{
 "cells": [
  {
   "cell_type": "code",
   "execution_count": 1,
   "metadata": {},
   "outputs": [],
   "source": []
  },
  {
   "cell_type": "code",
   "execution_count": 3,
   "metadata": {},
   "outputs": [],
   "source": [
    "ROOT = '/home/dev/ws_percept/src'"
   ]
  },
  {
   "cell_type": "code",
   "execution_count": 4,
   "metadata": {},
   "outputs": [],
   "source": [
    "import os\n",
    "import numpy as np\n",
    "import cupoch as cph\n",
    "import misc.meshes as meshes\n",
    "\n",
    "mesh_dict = dict()\n",
    "\n",
    "components = ['finger', 'hand', 'link0', 'link1','link2','link3','link4','link5','link6','link7']\n",
    "\n",
    "for component in components:\n",
    "\n",
    "\n",
    "    path = os.path.join(ROOT, f'outputs/testdata/franka_panda/meshes/collision/{component}.obj')\n",
    "    mesh_dict[component] = cph.io.read_triangle_mesh(path)\n",
    "\n",
    "mesh_list = list(mesh_dict.values())\n",
    "\n",
    "mesh = mesh_list[0]\n",
    "for new_mesh in mesh_list[1:]:\n",
    "    mesh += new_mesh\n",
    "\n",
    "# cph.visualization.draw_geometries([mesh])"
   ]
  },
  {
   "cell_type": "code",
   "execution_count": 5,
   "metadata": {},
   "outputs": [],
   "source": [
    "\n",
    "import os\n",
    "import numpy as np\n",
    "import cupoch as cph\n",
    "\n",
    "path = os.path.join(ROOT, 'outputs/testdata/franka_panda/panda.urdf')\n",
    "kin = cph.kinematics.KinematicChain(path)\n",
    "\n",
    "joint_map = {\"joint_linkAlinkA9\": 0.0, \"joint_linkAlinkB\": 0.0}\n",
    "poses = kin.forward_kinematics()\n",
    "geoms = kin.get_transformed_visual_geometry_map(poses)\n",
    "\n",
    "\n",
    "\n",
    "geoms = kin.get_transformed_visual_geometry_map(poses)\n",
    "cph.visualization.draw_geometries(list(geoms.values()))"
   ]
  },
  {
   "cell_type": "code",
   "execution_count": null,
   "metadata": {},
   "outputs": [],
   "source": []
  }
 ],
 "metadata": {
  "kernelspec": {
   "display_name": "peract_env",
   "language": "python",
   "name": "python3"
  },
  "language_info": {
   "codemirror_mode": {
    "name": "ipython",
    "version": 3
   },
   "file_extension": ".py",
   "mimetype": "text/x-python",
   "name": "python",
   "nbconvert_exporter": "python",
   "pygments_lexer": "ipython3",
   "version": "3.8.10"
  }
 },
 "nbformat": 4,
 "nbformat_minor": 2
}

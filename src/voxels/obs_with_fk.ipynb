{
 "cells": [
  {
   "cell_type": "code",
   "execution_count": 1,
   "metadata": {},
   "outputs": [],
   "source": [
    "import os\n",
    "import numpy as np\n",
    "import pickle\n",
    "import matplotlib.pyplot as plt\n",
    "import plotly.graph_objects as go\n",
    "from plotly.subplots import make_subplots\n",
    "import plotly.io as pio\n",
    "pio.templates.default = \"plotly_white\"\n"
   ]
  },
  {
   "cell_type": "code",
   "execution_count": 2,
   "metadata": {},
   "outputs": [],
   "source": [
    "# Cameras\n",
    "IMAGE_SIZE  = 240\n",
    "CAMERAS = ['front', 'back']\n",
    "\n",
    "# Scene\n",
    "# [x_min, y_min, z_min, x_max, y_max, z_max] - the metric volume to be voxelized\n",
    "SCENE_BOUNDS    = [-1.5, -1.5, -1.5, 1.50, 1.5, 1.5]\n",
    "\n",
    "# Agents\n",
    "AGENTS = ['Panda0', 'Panda1']"
   ]
  },
  {
   "cell_type": "code",
   "execution_count": 3,
   "metadata": {},
   "outputs": [],
   "source": [
    "# load data\n",
    "DATASET_PATH = '../outputs/dualarms_2cam/dualarms_2cam_with_fk.pkl'\n",
    "with open(DATASET_PATH, 'rb') as f:\n",
    "    _obs = pickle.load(f)"
   ]
  },
  {
   "cell_type": "markdown",
   "metadata": {},
   "source": [
    "## Figure"
   ]
  },
  {
   "cell_type": "code",
   "execution_count": null,
   "metadata": {},
   "outputs": [],
   "source": [
    "# show keys and shape\n",
    "idx = -1\n",
    "CAMERA = CAMERAS[0]\n",
    "print('camera:', CAMERA)\n",
    "print('keys:',_obs[idx][CAMERA].keys())\n",
    "print('rgb',_obs[idx][CAMERA]['rgb'].shape)\n",
    "print('depth',_obs[idx][CAMERA]['depth'].shape)\n",
    "print('pcd',_obs[idx][CAMERA]['pointcloud'].shape)\n",
    "print('resolution',_obs[idx][CAMERA]['resolution'])\n",
    "\n",
    "\n",
    "# plot rgb and depth camera\n",
    "fig = plt.figure(figsize=(10, 10))\n",
    "rows, cols = 2, len(CAMERAS)\n",
    "plot_idx = 1\n",
    "for camera in CAMERAS:\n",
    "    fig.add_subplot(rows, cols, plot_idx)\n",
    "    plt.imshow(_obs[idx][camera]['rgb'])\n",
    "    plt.axis('off')\n",
    "    plt.title(\"%s_rgb\" % (camera))\n",
    "\n",
    "    fig.add_subplot(rows, cols, plot_idx+len(CAMERAS))\n",
    "    plt.imshow(_obs[idx][camera]['depth'])\n",
    "    plt.axis('off')\n",
    "    plt.title(\"%s_depth\" % (camera))\n",
    "    plot_idx += 1\n",
    "plt.show()"
   ]
  },
  {
   "cell_type": "code",
   "execution_count": null,
   "metadata": {},
   "outputs": [],
   "source": [
    "def constrain_scene_bounds(pcd):\n",
    "    global SCENE_BOUNDS\n",
    "    pcd = pcd[:, ( (pcd[0,:] > SCENE_BOUNDS[0]) & (pcd[0,:] < SCENE_BOUNDS[3])  )] # x axis constrainsts\n",
    "    pcd = pcd[:, ( (pcd[1,:] > SCENE_BOUNDS[1]) & (pcd[1,:] < SCENE_BOUNDS[4])  )] # y axis constrainsts\n",
    "    pcd = pcd[:, ( (pcd[2,:] > SCENE_BOUNDS[2]) & (pcd[2,:] < SCENE_BOUNDS[5])  )] # z axis constrainsts\n",
    "    return pcd\n",
    "\n",
    "\n",
    "def constrain_scene_bounds2(pcd, rgb):\n",
    "    global SCENE_BOUNDS\n",
    "\n",
    "    # x axis constraints\n",
    "    mask = ( (pcd[0,:] > SCENE_BOUNDS[0]) & (pcd[0,:] < SCENE_BOUNDS[3])  )\n",
    "    pcd = pcd[:, mask] \n",
    "    rgb = rgb[:, mask]\n",
    "\n",
    "    # y axis constraints\n",
    "    mask = ( (pcd[1,:] > SCENE_BOUNDS[1]) & (pcd[1,:] < SCENE_BOUNDS[4])  )\n",
    "    pcd = pcd[:, mask] \n",
    "    rgb = rgb[:, mask]\n",
    "    \n",
    "    # z axis constraints\n",
    "    mask = ( (pcd[2,:] > SCENE_BOUNDS[2]) & (pcd[2,:] < SCENE_BOUNDS[5])  )\n",
    "    pcd = pcd[:, mask] \n",
    "    rgb = rgb[:, mask]\n",
    "\n",
    "    return pcd, rgb"
   ]
  },
  {
   "cell_type": "code",
   "execution_count": null,
   "metadata": {},
   "outputs": [],
   "source": [
    "idx = -1\n",
    "\n",
    "fig = make_subplots(\n",
    "    rows=1, cols=2,\n",
    "    specs=[[{'type': 'scatter3d'}, {'type': 'scatter3d'}],],\n",
    "    horizontal_spacing = 0.00,\n",
    "    vertical_spacing = 0.00,\n",
    "    subplot_titles=('front_pointcloud', 'back_pointcloud')\n",
    ")\n",
    "\n",
    "for i, camera in enumerate(CAMERAS):\n",
    "    # print(camera)\n",
    "\n",
    "    # get pointcloud\n",
    "    pcd = _obs[idx][camera]['pointcloud'].transpose(2,0,1).reshape(3,-1)\n",
    "\n",
    "    # get rgb\n",
    "    rgb = _obs[idx][camera]['rgb'].transpose(2,0,1).reshape(3,-1)\n",
    "    rgb = ((rgb - 0.0) * 255.0) / 1.0 + 0.0\n",
    "\n",
    "    # constrain scene\n",
    "    pcd, rgb = constrain_scene_bounds2(pcd, rgb)\n",
    "    color = [f'rgb({rgb[0,i]},{rgb[1,i]},{rgb[2,i]})' for i in range(rgb.shape[1])]\n",
    "\n",
    "    fig.add_trace(\n",
    "        go.Scatter3d(\n",
    "            x = pcd[0,:],\n",
    "            y = pcd[1,:],\n",
    "            z = pcd[2,:],\n",
    "            mode='markers',\n",
    "            marker=dict(\n",
    "                size=2,\n",
    "                color=color,\n",
    "                # color=pcd[0,:],\n",
    "                # colorscale='Turbo',\n",
    "            ),\n",
    "            name=camera\n",
    "        ),\n",
    "        row=1, \n",
    "        col=i+1,\n",
    "    )\n",
    "\n",
    "fig.update_layout(\n",
    "    autosize=False,\n",
    "    width=1000,\n",
    "    height=500,\n",
    ")\n",
    "\n",
    "# fig.write_html('../outputs/dualarms_2cam/dualarms_2cam_with_fk_pc.html')\n",
    "\n",
    "# fig.show\n"
   ]
  },
  {
   "cell_type": "markdown",
   "metadata": {},
   "source": [
    "## Meshes and Bounding Boxes"
   ]
  },
  {
   "cell_type": "code",
   "execution_count": 4,
   "metadata": {},
   "outputs": [],
   "source": [
    "ROOT = '/home/dev/ws_percept/src'"
   ]
  },
  {
   "cell_type": "code",
   "execution_count": 13,
   "metadata": {},
   "outputs": [],
   "source": [
    "import os\n",
    "import numpy as np\n",
    "import cupoch as cph\n",
    "\n",
    "path = os.path.join(ROOT, 'outputs/testdata/franka_panda/panda.urdf')\n",
    "kin = cph.kinematics.KinematicChain(path)\n",
    "\n",
    "\n",
    "geoms_list = list()\n",
    "\n",
    "# FK for agent 0\n",
    "agent = 'Panda0'\n",
    "joint_map = dict()\n",
    "for pos, val in enumerate(_obs[1][agent]['joint_positions']):\n",
    "    joint_map[f'panda_joint{pos}'] = val\n",
    "poses = kin.forward_kinematics(joint_map)\n",
    "geoms = kin.get_transformed_visual_geometry_map(poses)\n",
    "# add geometries\n",
    "geoms_list += list(geoms.values())\n",
    "\n",
    "# FK for agent 1\n",
    "agent = 'Panda1'\n",
    "joint_map = dict()\n",
    "for pos, val in enumerate(_obs[1][agent]['joint_positions']):\n",
    "    joint_map[f'panda_joint{pos}'] = val\n",
    "poses = kin.forward_kinematics(joint_map)\n",
    "geoms = kin.get_transformed_visual_geometry_map(poses)\n",
    "# add geometries\n",
    "geoms_list += list(geoms.values())\n",
    "\n",
    "\n",
    "# cph.visualization.draw_geometries(geoms_list)\n"
   ]
  },
  {
   "cell_type": "code",
   "execution_count": 6,
   "metadata": {},
   "outputs": [
    {
     "data": {
      "text/plain": [
       "{'joint_positions': [1.3875367641448975,\n",
       "  1.3091490268707275,\n",
       "  -1.5707720518112183,\n",
       "  -0.6108652353286743,\n",
       "  -4.76837158203125e-06,\n",
       "  2.5307233333587646,\n",
       "  1.3089821338653564],\n",
       " 'global_position': array([-0.03395154, -0.74387997,  0.07001754]),\n",
       " 'global_orientation': array([-1.57079649,  0.24409597, -1.57079637])}"
      ]
     },
     "execution_count": 6,
     "metadata": {},
     "output_type": "execute_result"
    }
   ],
   "source": [
    "_obs[1]['Panda0']"
   ]
  },
  {
   "cell_type": "code",
   "execution_count": null,
   "metadata": {},
   "outputs": [],
   "source": [
    "_obs[1]['Panda1']"
   ]
  }
 ],
 "metadata": {
  "kernelspec": {
   "display_name": "peract_env",
   "language": "python",
   "name": "python3"
  },
  "language_info": {
   "codemirror_mode": {
    "name": "ipython",
    "version": 3
   },
   "file_extension": ".py",
   "mimetype": "text/x-python",
   "name": "python",
   "nbconvert_exporter": "python",
   "pygments_lexer": "ipython3",
   "version": "3.8.10"
  }
 },
 "nbformat": 4,
 "nbformat_minor": 2
}

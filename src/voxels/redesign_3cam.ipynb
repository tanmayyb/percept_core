{
 "cells": [
  {
   "cell_type": "code",
   "execution_count": 1,
   "metadata": {},
   "outputs": [],
   "source": [
    "import os\n",
    "import time \n",
    "import pickle\n",
    "\n",
    "import numpy as np\n",
    "from copy import deepcopy\n",
    "\n",
    "import matplotlib.pyplot as plt\n",
    "import plotly.graph_objects as go\n",
    "from plotly.subplots import make_subplots\n",
    "import plotly.io as pio\n",
    "pio.templates.default = \"plotly_white\""
   ]
  },
  {
   "cell_type": "code",
   "execution_count": 2,
   "metadata": {},
   "outputs": [],
   "source": [
    "# Root of Project\n",
    "ROOT = '/home/dev/ws_percept/src'\n",
    "\n",
    "# Cameras\n",
    "IMAGE_SIZE  = 240\n",
    "CAMERAS = ['cam1', 'cam2', 'cam3']\n",
    "\n",
    "# Scene\n",
    "# [x_min, y_min, z_min, x_max, y_max, z_max] - the metric volume to be voxelized\n",
    "SCENE_BOUNDS    = (-1.5, -1.5, -1.5, 1.50, 1.5, 1.5)\n",
    "\n",
    "# Agents\n",
    "AGENTS = ['panda0', 'panda1']"
   ]
  },
  {
   "cell_type": "code",
   "execution_count": 3,
   "metadata": {},
   "outputs": [],
   "source": [
    "# load data\n",
    "DATASET_PATH = '../outputs/dualarms_3cam/dualarms_3cam_with_fk.pkl'\n",
    "with open(DATASET_PATH, 'rb') as f:\n",
    "    _obs = pickle.load(f)"
   ]
  },
  {
   "cell_type": "markdown",
   "metadata": {},
   "source": [
    "## Setup PCD, Mesh"
   ]
  },
  {
   "cell_type": "code",
   "execution_count": 4,
   "metadata": {},
   "outputs": [],
   "source": [
    "def constrain_scene_bounds(data):\n",
    "    global SCENE_BOUNDS\n",
    "\n",
    "    nX, nY, nZ, X, Y, Z = SCENE_BOUNDS\n",
    "\n",
    "    X_mask = (data[:,0] > nX) & (data[:,0]<X)\n",
    "    Y_mask = (data[:,1] > nY) & (data[:,1]<Y)\n",
    "    Z_mask = (data[:,2] > nZ) & (data[:,2]<Z)\n",
    "    mask = (X_mask)&(Y_mask)&(Z_mask) \n",
    "\n",
    "    return data[mask]\n",
    "\n",
    "def get_pcd_and_rgb(camera_obs:dict):\n",
    "    pcd = camera_obs['pointcloud'].reshape(-2,3)\n",
    "    rgb = camera_obs['rgb'].reshape(-2,3)\n",
    "    return pcd, rgb\n",
    "\n",
    "def get_pcd(camera_obs:dict):\n",
    "    pcd = camera_obs['pointcloud'].reshape(-2,3)\n",
    "    return pcd\n",
    "\n",
    "\n",
    "obs = _obs[-1]\n",
    "camera_obs = obs[CAMERAS[0]]\n",
    "pcd, rgb = get_pcd_and_rgb(camera_obs)"
   ]
  },
  {
   "cell_type": "code",
   "execution_count": 5,
   "metadata": {},
   "outputs": [],
   "source": [
    "from scipy.spatial.transform import Rotation as R\n",
    "import cupoch as cph\n",
    "\n",
    "ROBOT_URDF_PATH = 'outputs/testdata/franka_panda_cupoch/panda.urdf'\n",
    "URDF_JOINT_PREFIX = 'panda_joint'\n",
    "\n",
    "path = os.path.join(ROOT, ROBOT_URDF_PATH)\n",
    "kin = cph.kinematics.KinematicChain(path)\n",
    "\n",
    "\n",
    "def get_tf_matrix(\n",
    "    translation:np.array,\n",
    "    rotation:np.array, \n",
    ") -> np.array:\n",
    "\n",
    "    r = R.from_rotvec(rotation)\n",
    "    r = r.as_matrix()\n",
    "\n",
    "    tf = np.eye(4)\n",
    "    tf[:3,:3] = r\n",
    "    tf[:3,3] = translation\n",
    "\n",
    "    return tf\n",
    "\n",
    "def manually_offset_base(ref:np.array, translation_offset) -> np.array:\n",
    "    offset = np.eye(4)\n",
    "    offset[:3, 3] = translation_offset\n",
    "    return np.dot(ref, offset)\n",
    "\n",
    "def get_mesh_using_forward_kinematics(\n",
    "    joints_positions:np.array,\n",
    "    global_position:np.array,\n",
    "    global_rotation:np.array\n",
    "):\n",
    "    global URDF_JOINT_PREFIX\n",
    "\n",
    "    # create joint_map, used for fk on urdf model\n",
    "    joint_map = {'%s%d' % (URDF_JOINT_PREFIX, i+1): val for i, val \\\n",
    "                in enumerate(joints_positions)} \n",
    "\n",
    "    # create transformation matrix\n",
    "    tf_matrix = get_tf_matrix(global_position, global_rotation)\n",
    "\n",
    "    # manual offset, to be removed \n",
    "    offset = np.array([0.04, 0.0, -0.068])\n",
    "    tf_matrix = manually_offset_base(tf_matrix, offset)\n",
    "    \n",
    "    # do forward kinematics\n",
    "    poses = kin.forward_kinematics(joint_map, tf_matrix)\n",
    "    \n",
    "    # store mesh geometries\n",
    "    meshes = kin.get_transformed_visual_geometry_map(poses)\n",
    "    \n",
    "    return list(meshes.values())"
   ]
  },
  {
   "cell_type": "markdown",
   "metadata": {},
   "source": [
    "## PCR"
   ]
  },
  {
   "cell_type": "code",
   "execution_count": 6,
   "metadata": {},
   "outputs": [],
   "source": [
    "def get_pcds_for_registration(obs):\n",
    "    global CAMERAS\n",
    "\n",
    "    pcds = list()\n",
    "    for CAMERA in CAMERAS:\n",
    "        camera_obs = obs[CAMERA]\n",
    "        pcd, rgb = get_pcd_and_rgb(camera_obs)\n",
    "        pcd = constrain_scene_bounds(pcd)\n",
    "        pcds.append(pcd)\n",
    "\n",
    "    return pcds\n",
    "\n",
    "pcds = get_pcds_for_registration(obs)"
   ]
  },
  {
   "cell_type": "code",
   "execution_count": 7,
   "metadata": {},
   "outputs": [
    {
     "name": "stdout",
     "output_type": "stream",
     "text": [
      "ICP (GPU) [sec]: 0.022706031799316406\n",
      "ICP (GPU) [sec]: 0.02223491668701172\n"
     ]
    }
   ],
   "source": [
    "def do_point_cloud_registration(pcds):\n",
    "    assert len(pcds) > 1\n",
    "    def register(\n",
    "        source_gpu:cph.geometry.PointCloud, \n",
    "        target_gpu:cph.geometry.PointCloud,\n",
    "    ) -> cph.geometry.PointCloud:\n",
    "\n",
    "        threshold = 0.02 # what does this do?\n",
    "        trans_init = np.asarray([[1.0, 0.0, 0.0, 0.0], [0.0, 1.0, 0.0, 0.0],\n",
    "                                [0.0, 0.0, 1.0, 0.0], [0.0, 0.0, 0.0, 1.0]])\n",
    "\n",
    "        # register pointclouds\n",
    "        start = time.time()\n",
    "        reg_p2p = cph.registration.registration_icp(\n",
    "            source_gpu,\n",
    "            target_gpu,\n",
    "            threshold,\n",
    "            trans_init.astype(np.float32),\n",
    "            cph.registration.TransformationEstimationPointToPlane(),\n",
    "        )\n",
    "\n",
    "        source_gpu.transform(reg_p2p.transformation)\n",
    "\n",
    "        # remove outliers\n",
    "        NEIGHBOURS = 2\n",
    "        source_gpu, ind = source_gpu.remove_statistical_outlier(nb_neighbors=NEIGHBOURS, std_ratio=2.0)\n",
    "        target_gpu, ind = target_gpu.remove_statistical_outlier(nb_neighbors=NEIGHBOURS, std_ratio=2.0)\n",
    "\n",
    "\n",
    "        elapsed_time = time.time() - start\n",
    "        print(\"ICP (GPU) [sec]:\", elapsed_time) # adding outlier removal adds ~25ms\n",
    "    \n",
    "        return source_gpu+target_gpu\n",
    "\n",
    "\n",
    "    # load first and second pcd\n",
    "    source_gpu = cph.geometry.PointCloud(\n",
    "        cph.utility.HostVector3fVector(pcds[0])\n",
    "    )\n",
    "    target_gpu = cph.geometry.PointCloud(\n",
    "        cph.utility.HostVector3fVector(pcds[1])\n",
    "    )\n",
    "    source_gpu = register(source_gpu, target_gpu)\n",
    "\n",
    "    # merge all other pcds with new source\n",
    "    for pcd in pcds[2:]:\n",
    "        target_gpu = cph.geometry.PointCloud(\n",
    "            cph.utility.HostVector3fVector(pcd)\n",
    "        )\n",
    "        source_gpu = register(source_gpu, target_gpu)\n",
    "\n",
    "\n",
    "    return source_gpu\n",
    "\n",
    "\n",
    "pcd = do_point_cloud_registration(pcds)"
   ]
  },
  {
   "cell_type": "markdown",
   "metadata": {},
   "source": [
    "## RBS"
   ]
  },
  {
   "cell_type": "code",
   "execution_count": 8,
   "metadata": {},
   "outputs": [
    {
     "name": "stdout",
     "output_type": "stream",
     "text": [
      "\n",
      "Agent: panda0\n",
      "empty mesh detected\n",
      "empty mesh detected\n",
      "RBS (CPU+GPU) [sec]: 0.011122703552246094\n",
      "\n",
      "Agent: panda1\n",
      "empty mesh detected\n",
      "empty mesh detected\n",
      "RBS (CPU+GPU) [sec]: 0.014441967010498047\n"
     ]
    }
   ],
   "source": [
    "def get_bb_from_mesh(\n",
    "    mesh:cph.geometry.TriangleMesh\n",
    ") -> cph.geometry.AxisAlignedBoundingBox:\n",
    "\n",
    "    AABB = mesh.get_axis_aligned_bounding_box()\n",
    "    if AABB.is_empty():\n",
    "        print('empty mesh detected')\n",
    "        return None       \n",
    "    else:\n",
    "        return AABB\n",
    "    \n",
    "\n",
    "def perform_rbs_on_pointcloud_using_bb(obs, pcd):\n",
    "\n",
    "    n = len(pcd.points)\n",
    "    masks = list()\n",
    "    meshes_list = list()\n",
    "    for agent in AGENTS:\n",
    "        print('\\nAgent: %s' % agent)\n",
    "        agent_obs = obs[agent]\n",
    "        \n",
    "        # get all meshes of the agent using fk\n",
    "        meshes = get_mesh_using_forward_kinematics(\n",
    "            agent_obs['joint_pos'],\n",
    "            agent_obs['global_pos'],\n",
    "            agent_obs['global_ang'],\n",
    "        )\n",
    "        meshes_list += meshes\n",
    "\n",
    "        # find points within BBs and create masks\n",
    "        start = time.time()\n",
    "        for mesh in meshes:\n",
    "            bb = get_bb_from_mesh(mesh)\n",
    "\n",
    "            if bb is not None:\n",
    "                mask = np.zeros(n, dtype=bool)\n",
    "\n",
    "                indices_points_within_bb = np.asarray(\n",
    "                    bb.get_point_indices_within_bounding_box(\n",
    "                        pcd.points\n",
    "                    ).cpu()\n",
    "                )\n",
    "                if len(indices_points_within_bb)>0:\n",
    "                    mask[indices_points_within_bb] = True\n",
    "                    masks.append(mask)\n",
    "\n",
    "        elapsed_time = time.time() - start\n",
    "        print(\"RBS (CPU+GPU) [sec]:\", elapsed_time)\n",
    "\n",
    "\n",
    "    mask = np.column_stack(tuple(masks)).any(axis=1)\n",
    "    mask = ~mask # inverting mask to get pcd which were not within any BBs\n",
    "    \n",
    "    pcd_arr = np.asarray(pcd.points.cpu())\n",
    "    return  cph.geometry.PointCloud(\n",
    "        cph.utility.HostVector3fVector(pcd_arr[mask])\n",
    "    ), meshes_list\n",
    "\n",
    "rbs_pcd, meshes = perform_rbs_on_pointcloud_using_bb(obs, pcd)"
   ]
  },
  {
   "cell_type": "code",
   "execution_count": 9,
   "metadata": {},
   "outputs": [],
   "source": [
    "cph.visualization.draw_geometries([rbs_pcd]+meshes)"
   ]
  },
  {
   "cell_type": "code",
   "execution_count": 10,
   "metadata": {},
   "outputs": [],
   "source": [
    "cph.visualization.draw_geometries([rbs_pcd])"
   ]
  },
  {
   "cell_type": "markdown",
   "metadata": {},
   "source": [
    "## Voxelization"
   ]
  },
  {
   "cell_type": "code",
   "execution_count": 11,
   "metadata": {},
   "outputs": [
    {
     "name": "stdout",
     "output_type": "stream",
     "text": [
      "Voxelization (GPU) [sec]: 0.0038084983825683594\n"
     ]
    }
   ],
   "source": [
    "def convert_pointcloud_to_voxels(pcd):\n",
    "    cubic_size = 2.0\n",
    "    voxel_resolution = 100.0\n",
    "\n",
    "    # create voxel grid\n",
    "    start = time.time()\n",
    "    voxels = cph.geometry.VoxelGrid.create_from_point_cloud_within_bounds(\n",
    "        pcd,\n",
    "        voxel_size=cubic_size / voxel_resolution,\n",
    "        min_bound=(-cubic_size / 2, -cubic_size / 2, -cubic_size / 2),\n",
    "        max_bound=(cubic_size / 2, cubic_size / 2, cubic_size / 2),\n",
    "    )\n",
    "    elapsed_time = time.time() - start\n",
    "    print(\"Voxelization (GPU) [sec]:\", elapsed_time) # adding outlier removal adds ~25ms\n",
    "\n",
    "\n",
    "    return voxels\n",
    "\n",
    "voxels = convert_pointcloud_to_voxels(rbs_pcd)"
   ]
  },
  {
   "cell_type": "code",
   "execution_count": 12,
   "metadata": {},
   "outputs": [],
   "source": [
    "cph.visualization.draw_geometries([voxels])"
   ]
  }
 ],
 "metadata": {
  "kernelspec": {
   "display_name": "peract_env",
   "language": "python",
   "name": "python3"
  },
  "language_info": {
   "codemirror_mode": {
    "name": "ipython",
    "version": 3
   },
   "file_extension": ".py",
   "mimetype": "text/x-python",
   "name": "python",
   "nbconvert_exporter": "python",
   "pygments_lexer": "ipython3",
   "version": "3.8.10"
  }
 },
 "nbformat": 4,
 "nbformat_minor": 2
}

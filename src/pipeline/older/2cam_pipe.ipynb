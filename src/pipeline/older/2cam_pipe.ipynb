{
 "cells": [
  {
   "cell_type": "code",
   "execution_count": 1,
   "metadata": {},
   "outputs": [],
   "source": [
    "import os\n",
    "import time \n",
    "import pickle\n",
    "\n",
    "import numpy as np\n",
    "from copy import deepcopy\n",
    "\n",
    "import matplotlib.pyplot as plt\n",
    "import plotly.graph_objects as go\n",
    "from plotly.subplots import make_subplots\n",
    "import plotly.io as pio\n",
    "pio.templates.default = \"plotly_white\""
   ]
  },
  {
   "cell_type": "code",
   "execution_count": 2,
   "metadata": {},
   "outputs": [],
   "source": [
    "# Root of Project\n",
    "ROOT = '/home/dev/ws_percept/src'\n",
    "\n",
    "# Cameras\n",
    "IMAGE_SIZE  = 240\n",
    "CAMERAS = ['front', 'back']\n",
    "\n",
    "# Scene\n",
    "# [x_min, y_min, z_min, x_max, y_max, z_max] - the metric volume to be voxelized\n",
    "SCENE_BOUNDS    = (-1.5, -1.5, -1.5, 1.50, 1.5, 1.5)\n",
    "\n",
    "# Agents\n",
    "AGENTS = ['Franka0', 'Franka1']"
   ]
  },
  {
   "cell_type": "code",
   "execution_count": 3,
   "metadata": {},
   "outputs": [],
   "source": [
    "# load data\n",
    "DATASET_PATH = '../outputs/dualarms_2cam/dualarms_2cam_with_fk.pkl'\n",
    "with open(DATASET_PATH, 'rb') as f:\n",
    "    _obs = pickle.load(f)"
   ]
  },
  {
   "cell_type": "markdown",
   "metadata": {},
   "source": [
    "## Setup PCD, Mesh"
   ]
  },
  {
   "cell_type": "code",
   "execution_count": 4,
   "metadata": {},
   "outputs": [],
   "source": [
    "def constrain_scene_bounds(data):\n",
    "    global SCENE_BOUNDS\n",
    "\n",
    "    nX, nY, nZ, X, Y, Z = SCENE_BOUNDS\n",
    "\n",
    "    X_mask = (data[:,0] > nX) & (data[:,0]<X)\n",
    "    Y_mask = (data[:,1] > nY) & (data[:,1]<Y)\n",
    "    Z_mask = (data[:,2] > nZ) & (data[:,2]<Z)\n",
    "    mask = (X_mask)&(Y_mask)&(Z_mask) \n",
    "\n",
    "    return data[mask]\n",
    "\n",
    "def get_pcd_and_rgb(camera_obs:dict):\n",
    "    pcd = camera_obs['pointcloud'].reshape(-2,3)\n",
    "    rgb = camera_obs['rgb'].reshape(-2,3)\n",
    "    return pcd, rgb\n",
    "\n",
    "def get_pcd(camera_obs:dict):\n",
    "    pcd = camera_obs['pointcloud'].reshape(-2,3)\n",
    "    return pcd\n",
    "\n",
    "\n",
    "obs = _obs[-1]\n",
    "camera_obs = obs[CAMERAS[0]]\n",
    "pcd, rgb = get_pcd_and_rgb(camera_obs)"
   ]
  },
  {
   "cell_type": "code",
   "execution_count": 5,
   "metadata": {},
   "outputs": [],
   "source": [
    "from scipy.spatial.transform import Rotation as R\n",
    "import cupoch as cph\n",
    "\n",
    "ROBOT_URDF_PATH = 'outputs/testdata/franka_panda_cupoch_2/panda.urdf'\n",
    "URDF_JOINT_PREFIX = 'panda_joint'\n",
    "\n",
    "path = os.path.join(ROOT, ROBOT_URDF_PATH)\n",
    "kin = cph.kinematics.KinematicChain(path)\n",
    "\n",
    "\n",
    "def get_tf_matrix(\n",
    "    translation:np.array,\n",
    "    rotation:np.array, \n",
    ") -> np.array:\n",
    "\n",
    "    r = R.from_rotvec(rotation)\n",
    "    r = r.as_matrix()\n",
    "\n",
    "    tf = np.eye(4)\n",
    "    tf[:3,:3] = r\n",
    "    tf[:3,3] = translation\n",
    "\n",
    "    return tf\n",
    "\n",
    "def get_mesh_using_forward_kinematics(\n",
    "    joints_positions:np.array,\n",
    "    global_position:np.array,\n",
    "    global_rotation:np.array\n",
    "):\n",
    "    global URDF_JOINT_PREFIX\n",
    "\n",
    "    # create joint_map, used for fk on urdf model\n",
    "    joint_map = {'%s%d' % (URDF_JOINT_PREFIX, i+1): val for i, val \\\n",
    "                in enumerate(joints_positions)} \n",
    "\n",
    "    # manual offset, to be removed \n",
    "    offset = np.array([0.0, 0.0, -0.06999997])\n",
    "\n",
    "    # create transformation matrix\n",
    "    tf_matrix = get_tf_matrix(global_position+offset, global_rotation)\n",
    "    \n",
    "    # do forward kinematics\n",
    "    poses = kin.forward_kinematics(joint_map, tf_matrix)\n",
    "    \n",
    "    # store mesh geometries\n",
    "    meshes = kin.get_transformed_visual_geometry_map(poses)\n",
    "\n",
    "    return list(meshes.values())\n",
    "\n",
    "# agent_obs = obs[AGENTS[0]]\n",
    "# meshes = get_mesh_using_forward_kinematics(\n",
    "#     agent_obs['joint_pos'],\n",
    "#     agent_obs['global_pos'],\n",
    "#     agent_obs['global_ang'],\n",
    "# )"
   ]
  },
  {
   "cell_type": "markdown",
   "metadata": {},
   "source": [
    "## PCR"
   ]
  },
  {
   "cell_type": "code",
   "execution_count": 6,
   "metadata": {},
   "outputs": [],
   "source": [
    "def get_pcds_for_registration(obs):\n",
    "    pcds = list()\n",
    "    camera_obs = obs[CAMERAS[0]]\n",
    "    pcd, rgb = get_pcd_and_rgb(camera_obs)\n",
    "    pcd = constrain_scene_bounds(pcd)\n",
    "    pcds.append(pcd)\n",
    "\n",
    "    camera_obs = obs[CAMERAS[1]]\n",
    "    pcd, rgb = get_pcd_and_rgb(camera_obs)\n",
    "    pcd = constrain_scene_bounds(pcd)\n",
    "    pcds.append(pcd)\n",
    "    \n",
    "    return pcds\n",
    "\n",
    "pcds = get_pcds_for_registration(obs)"
   ]
  },
  {
   "cell_type": "code",
   "execution_count": 7,
   "metadata": {},
   "outputs": [
    {
     "name": "stdout",
     "output_type": "stream",
     "text": [
      "ICP (GPU) [sec]: 0.07349896430969238\n"
     ]
    }
   ],
   "source": [
    "\n",
    "\n",
    "def do_point_cloud_registration(pcds):\n",
    "    \n",
    "    # load source and target pointcloud\n",
    "    source_gpu = cph.geometry.PointCloud(\n",
    "        cph.utility.HostVector3fVector(pcds[0])\n",
    "    )\n",
    "    target_gpu = cph.geometry.PointCloud(\n",
    "        cph.utility.HostVector3fVector(pcds[1])\n",
    "    )\n",
    "\n",
    "    threshold = 0.02 # what does this do?\n",
    "    trans_init = np.asarray([[1.0, 0.0, 0.0, 0.0], [0.0, 1.0, 0.0, 0.0],\n",
    "                            [0.0, 0.0, 1.0, 0.0], [0.0, 0.0, 0.0, 1.0]])\n",
    "\n",
    "    # register pointclouds\n",
    "    start = time.time()\n",
    "    reg_p2p = cph.registration.registration_icp(\n",
    "        source_gpu,\n",
    "        target_gpu,\n",
    "        threshold,\n",
    "        trans_init.astype(np.float32),\n",
    "        cph.registration.TransformationEstimationPointToPlane(),\n",
    "    )\n",
    "\n",
    "    source_gpu.transform(reg_p2p.transformation)\n",
    "\n",
    "\n",
    "    # remove outliers\n",
    "    NEIGHBOURS = 2\n",
    "    source_gpu, ind = source_gpu.remove_statistical_outlier(nb_neighbors=NEIGHBOURS, std_ratio=2.0)\n",
    "    target_gpu, ind = target_gpu.remove_statistical_outlier(nb_neighbors=NEIGHBOURS, std_ratio=2.0)\n",
    "\n",
    "\n",
    "    elapsed_time = time.time() - start\n",
    "    print(\"ICP (GPU) [sec]:\", elapsed_time) # adding outlier removal adds ~25ms\n",
    "\n",
    "    # cph.visualization.draw_geometries([source_gpu+target_gpu])\n",
    "\n",
    "    return source_gpu+target_gpu\n",
    "\n",
    "\n",
    "pcd = do_point_cloud_registration(pcds)"
   ]
  },
  {
   "cell_type": "code",
   "execution_count": null,
   "metadata": {},
   "outputs": [],
   "source": []
  },
  {
   "cell_type": "markdown",
   "metadata": {},
   "source": [
    "## RBS"
   ]
  },
  {
   "cell_type": "code",
   "execution_count": 8,
   "metadata": {},
   "outputs": [
    {
     "name": "stdout",
     "output_type": "stream",
     "text": [
      "\n",
      "Agent: Franka0\n",
      "empty mesh detected\n",
      "RBS (CPU+GPU) [sec]: 0.04869890213012695\n",
      "\n",
      "Agent: Franka1\n",
      "empty mesh detected\n",
      "RBS (CPU+GPU) [sec]: 0.03590059280395508\n"
     ]
    }
   ],
   "source": [
    "def get_bb_from_mesh(\n",
    "    mesh:cph.geometry.TriangleMesh\n",
    ") -> cph.geometry.AxisAlignedBoundingBox:\n",
    "\n",
    "    AABB = mesh.get_axis_aligned_bounding_box()\n",
    "    if AABB.is_empty():\n",
    "        print('empty mesh detected')\n",
    "        return None       \n",
    "    else:\n",
    "        return AABB\n",
    "    \n",
    "\n",
    "def perform_rbs_on_pointcloud_using_bb(obs, pcd):\n",
    "\n",
    "    n = len(pcd.points)\n",
    "    masks = list()\n",
    "    for agent in AGENTS:\n",
    "        print('\\nAgent: %s' % agent)\n",
    "        agent_obs = obs[agent]\n",
    "        \n",
    "        # get all meshes of the agent using fk\n",
    "        meshes = get_mesh_using_forward_kinematics(\n",
    "            agent_obs['joint_pos'],\n",
    "            agent_obs['global_pos'],\n",
    "            agent_obs['global_ang'],\n",
    "        )\n",
    "\n",
    "        # find points within BBs and create masks\n",
    "        start = time.time()\n",
    "        for mesh in meshes:\n",
    "            bb = get_bb_from_mesh(mesh)\n",
    "\n",
    "            if bb is not None:\n",
    "                mask = np.zeros(n, dtype=bool)\n",
    "\n",
    "                indices_points_within_bb = np.asarray(\n",
    "                    bb.get_point_indices_within_bounding_box(\n",
    "                        pcd.points\n",
    "                    ).cpu()\n",
    "                )\n",
    "                if len(indices_points_within_bb)>0:\n",
    "                    mask[indices_points_within_bb] = True\n",
    "                    masks.append(mask)\n",
    "\n",
    "        elapsed_time = time.time() - start\n",
    "        print(\"RBS (CPU+GPU) [sec]:\", elapsed_time)\n",
    "\n",
    "\n",
    "    mask = np.column_stack(tuple(masks)).any(axis=1)\n",
    "    mask = ~mask # inverting mask to get pcd which were not within any BBs\n",
    "    \n",
    "    pcd_arr = np.asarray(pcd.points.cpu())\n",
    "    return  cph.geometry.PointCloud(\n",
    "        cph.utility.HostVector3fVector(pcd_arr[mask])\n",
    "    )\n",
    "\n",
    "rbs_pcd = perform_rbs_on_pointcloud_using_bb(obs, pcd)"
   ]
  },
  {
   "cell_type": "markdown",
   "metadata": {},
   "source": [
    "## Voxelization"
   ]
  },
  {
   "cell_type": "code",
   "execution_count": 9,
   "metadata": {},
   "outputs": [
    {
     "name": "stdout",
     "output_type": "stream",
     "text": [
      "Voxelization (GPU) [sec]: 0.007925748825073242\n"
     ]
    }
   ],
   "source": [
    "def convert_pointcloud_to_voxels(pcd):\n",
    "    cubic_size = 2.0\n",
    "    voxel_resolution = 100.0\n",
    "\n",
    "    # create voxel grid\n",
    "    start = time.time()\n",
    "    voxels = cph.geometry.VoxelGrid.create_from_point_cloud_within_bounds(\n",
    "        pcd,\n",
    "        voxel_size=cubic_size / voxel_resolution,\n",
    "        min_bound=(-cubic_size / 2, -cubic_size / 2, -cubic_size / 2),\n",
    "        max_bound=(cubic_size / 2, cubic_size / 2, cubic_size / 2),\n",
    "    )\n",
    "    elapsed_time = time.time() - start\n",
    "    print(\"Voxelization (GPU) [sec]:\", elapsed_time) # adding outlier removal adds ~25ms\n",
    "\n",
    "    # cph.visualization.draw_geometries([voxels])\n",
    "\n",
    "    return voxels\n",
    "\n",
    "voxels = convert_pointcloud_to_voxels(rbs_pcd)"
   ]
  },
  {
   "cell_type": "markdown",
   "metadata": {},
   "source": [
    "## Spherization"
   ]
  },
  {
   "cell_type": "code",
   "execution_count": 10,
   "metadata": {},
   "outputs": [],
   "source": [
    "voxel_points = list(voxels.voxels.cpu().values())"
   ]
  },
  {
   "cell_type": "code",
   "execution_count": 11,
   "metadata": {},
   "outputs": [],
   "source": [
    "points_as_spheres = list()\n",
    "for voxel_point in voxel_points:\n",
    "    points_as_spheres.append(cph.collision.Sphere(1.0, voxel_point.grid_index))"
   ]
  },
  {
   "cell_type": "code",
   "execution_count": 12,
   "metadata": {},
   "outputs": [
    {
     "name": "stdout",
     "output_type": "stream",
     "text": [
      "Jupyter environment detected. Enabling Open3D WebVisualizer.\n",
      "[Open3D INFO] WebRTC GUI backend enabled.\n",
      "[Open3D INFO] WebRTCWindowSystem: HTTP handshake server disabled.\n"
     ]
    }
   ],
   "source": [
    "import open3d as o3d"
   ]
  },
  {
   "cell_type": "code",
   "execution_count": 13,
   "metadata": {},
   "outputs": [
    {
     "data": {
      "text/plain": [
       "['All',\n",
       " 'Average',\n",
       " 'AxisAlignedBoundingBox',\n",
       " 'Color',\n",
       " 'DeformAsRigidAsPossibleEnergy',\n",
       " 'FilterScope',\n",
       " 'Gaussian3',\n",
       " 'Gaussian5',\n",
       " 'Gaussian7',\n",
       " 'Geometry',\n",
       " 'Geometry2D',\n",
       " 'Geometry3D',\n",
       " 'HalfEdge',\n",
       " 'HalfEdgeTriangleMesh',\n",
       " 'Image',\n",
       " 'ImageFilterType',\n",
       " 'KDTreeFlann',\n",
       " 'KDTreeSearchParam',\n",
       " 'KDTreeSearchParamHybrid',\n",
       " 'KDTreeSearchParamKNN',\n",
       " 'KDTreeSearchParamRadius',\n",
       " 'LineSet',\n",
       " 'MeshBase',\n",
       " 'Normal',\n",
       " 'Octree',\n",
       " 'OctreeColorLeafNode',\n",
       " 'OctreeInternalNode',\n",
       " 'OctreeInternalPointNode',\n",
       " 'OctreeLeafNode',\n",
       " 'OctreeNode',\n",
       " 'OctreeNodeInfo',\n",
       " 'OctreePointColorLeafNode',\n",
       " 'OrientedBoundingBox',\n",
       " 'PointCloud',\n",
       " 'Quadric',\n",
       " 'RGBDImage',\n",
       " 'SimplificationContraction',\n",
       " 'Smoothed',\n",
       " 'Sobel3dx',\n",
       " 'Sobel3dy',\n",
       " 'Spokes',\n",
       " 'TetraMesh',\n",
       " 'TriangleMesh',\n",
       " 'Vertex',\n",
       " 'Voxel',\n",
       " 'VoxelGrid',\n",
       " '__doc__',\n",
       " '__loader__',\n",
       " '__name__',\n",
       " '__package__',\n",
       " '__spec__',\n",
       " 'get_rotation_matrix_from_axis_angle',\n",
       " 'get_rotation_matrix_from_quaternion',\n",
       " 'get_rotation_matrix_from_xyz',\n",
       " 'get_rotation_matrix_from_xzy',\n",
       " 'get_rotation_matrix_from_yxz',\n",
       " 'get_rotation_matrix_from_yzx',\n",
       " 'get_rotation_matrix_from_zxy',\n",
       " 'get_rotation_matrix_from_zyx',\n",
       " 'keypoint']"
      ]
     },
     "execution_count": 13,
     "metadata": {},
     "output_type": "execute_result"
    }
   ],
   "source": [
    "dir(o3d.geometry)"
   ]
  },
  {
   "cell_type": "code",
   "execution_count": null,
   "metadata": {},
   "outputs": [],
   "source": []
  },
  {
   "cell_type": "markdown",
   "metadata": {},
   "source": [
    "## Misc"
   ]
  },
  {
   "cell_type": "code",
   "execution_count": 14,
   "metadata": {},
   "outputs": [],
   "source": [
    "# def get_bb_array_from_mesh(\n",
    "#     mesh:cph.geometry.TriangleMesh\n",
    "# ) -> np.array:\n",
    "\n",
    "#     AABB = mesh.get_axis_aligned_bounding_box()\n",
    "#     if AABB.is_empty():\n",
    "#         print('empty mesh detected')\n",
    "#         return None       \n",
    "#     else:\n",
    "#         return np.array(AABB.get_box_points()).transpose(1,0)\n",
    "\n",
    "# # def get_bb_array_from_mesh(mesh)->np.array:\n",
    "# #     try:\n",
    "# #         mesh_points = np.array(mesh.vertices.cpu())\n",
    "# #         bb = OBB.create_from_points(\n",
    "# #             o3d.utility.Vector3dVector(mesh_points)\n",
    "# #         ).get_box_points()\n",
    "# #         return np.asarray(bb)#.transpose(1,0)\n",
    "# #     except:\n",
    "# #         return None\n",
    "\n",
    "# def get_bb_trace_from_mesh(mesh, color='blue'):\n",
    "#     bb = get_bb_array_from_mesh(mesh)\n",
    "#     if bb is not None:\n",
    "#         return go.Mesh3d(\n",
    "#             x=bb[0,:],\n",
    "#             y=bb[1,:], \n",
    "#             z=bb[2,:],\n",
    "#             alphahull=0,\n",
    "#             opacity=0.5,\n",
    "#             color=color\n",
    "#         )\n",
    "#     else:\n",
    "#         return None\n",
    "\n",
    "# def visualize_pointcloud(obs, pcd):\n",
    "#     pcd = np.asarray(pcd.points.cpu()).transpose(1,0)\n",
    "\n",
    "#     fig = go.Figure()\n",
    "#     fig.add_trace(\n",
    "#         go.Scatter3d(\n",
    "#             x = pcd[0,:],\n",
    "#             y = pcd[1,:],\n",
    "#             z = pcd[2,:],\n",
    "#             mode='markers',\n",
    "#             marker=dict(\n",
    "#                 size=2,\n",
    "#                 color=pcd[2,:],\n",
    "#                 colorscale='Turbo',\n",
    "#             ), \n",
    "#         )\n",
    "#     )\n",
    "#     agent = AGENTS[1]\n",
    "#     colors = ['cyan', 'yellow']\n",
    "\n",
    "#     for agent, color in zip(AGENTS, colors):\n",
    "#         agent_obs = obs[agent]\n",
    "#         meshes = get_mesh_using_forward_kinematics(\n",
    "#             deepcopy(deepcopy(agent_obs['joint_pos'])),\n",
    "#             deepcopy(deepcopy(agent_obs['global_pos'])),\n",
    "#             deepcopy(deepcopy(agent_obs['global_ang'])),\n",
    "#         )\n",
    "\n",
    "#         for mesh in meshes:\n",
    "#             try:\n",
    "#                 trace = get_bb_trace_from_mesh(mesh, color=color)\n",
    "#                 if trace is not None:\n",
    "#                     fig.add_trace(trace)\n",
    "#             except:\n",
    "#                 pass\n",
    "\n",
    "#     return fig\n",
    "\n",
    "\n",
    "# visualize_pointcloud(obs, pcd)"
   ]
  }
 ],
 "metadata": {
  "kernelspec": {
   "display_name": "peract_env",
   "language": "python",
   "name": "python3"
  },
  "language_info": {
   "codemirror_mode": {
    "name": "ipython",
    "version": 3
   },
   "file_extension": ".py",
   "mimetype": "text/x-python",
   "name": "python",
   "nbconvert_exporter": "python",
   "pygments_lexer": "ipython3",
   "version": "3.8.10"
  }
 },
 "nbformat": 4,
 "nbformat_minor": 2
}

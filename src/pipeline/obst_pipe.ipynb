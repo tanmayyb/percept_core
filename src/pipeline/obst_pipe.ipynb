{
 "cells": [
  {
   "cell_type": "code",
   "execution_count": 55,
   "metadata": {},
   "outputs": [],
   "source": [
    "import os\n",
    "import time \n",
    "import pickle\n",
    "\n",
    "import numpy as np\n",
    "from copy import deepcopy\n",
    "\n",
    "import matplotlib.pyplot as plt\n",
    "import plotly.graph_objects as go\n",
    "from plotly.subplots import make_subplots\n",
    "import plotly.io as pio\n",
    "pio.templates.default = \"plotly_white\""
   ]
  },
  {
   "cell_type": "code",
   "execution_count": 56,
   "metadata": {},
   "outputs": [],
   "source": [
    "# Root of Project\n",
    "ROOT = '/home/dev/ws_percept/src'\n",
    "\n",
    "# Cameras\n",
    "IMAGE_SIZE  = 240\n",
    "CAMERAS = ['cam1', 'cam2', 'cam3']\n",
    "\n",
    "# Scene\n",
    "# [x_min, y_min, z_min, x_max, y_max, z_max] - the metric volume to be voxelized\n",
    "SCENE_BOUNDS    = (-1.5, -1.5, -1.5, 1.50, 1.5, 1.5)\n",
    "\n",
    "# Agents\n",
    "AGENTS = ['panda0', 'panda1']\n",
    "\n",
    "SHOW_CPH_VIZ = False"
   ]
  },
  {
   "cell_type": "code",
   "execution_count": 57,
   "metadata": {},
   "outputs": [],
   "source": [
    "# load data\n",
    "DATASET_PATH = '../outputs/dualarms_3cam/dualarms_3cam_with_fk.pkl'\n",
    "with open(DATASET_PATH, 'rb') as f:\n",
    "    _obs = pickle.load(f)"
   ]
  },
  {
   "cell_type": "markdown",
   "metadata": {},
   "source": [
    "## Setup PCD, Mesh"
   ]
  },
  {
   "cell_type": "code",
   "execution_count": 58,
   "metadata": {},
   "outputs": [],
   "source": [
    "def constrain_scene_bounds(data):\n",
    "    global SCENE_BOUNDS\n",
    "\n",
    "    nX, nY, nZ, X, Y, Z = SCENE_BOUNDS\n",
    "\n",
    "    X_mask = (data[:,0] > nX) & (data[:,0]<X)\n",
    "    Y_mask = (data[:,1] > nY) & (data[:,1]<Y)\n",
    "    Z_mask = (data[:,2] > nZ) & (data[:,2]<Z)\n",
    "    mask = (X_mask)&(Y_mask)&(Z_mask) \n",
    "\n",
    "    return data[mask]\n",
    "\n",
    "def get_pcd_and_rgb(camera_obs:dict):\n",
    "    pcd = camera_obs['pointcloud'].reshape(-2,3)\n",
    "    rgb = camera_obs['rgb'].reshape(-2,3)\n",
    "    return pcd, rgb\n",
    "\n",
    "def get_pcd(camera_obs:dict):\n",
    "    pcd = camera_obs['pointcloud'].reshape(-2,3)\n",
    "    return pcd\n",
    "\n",
    "\n",
    "obs = _obs[-1]\n",
    "camera_obs = obs[CAMERAS[0]]\n",
    "pcd, rgb = get_pcd_and_rgb(camera_obs)"
   ]
  },
  {
   "cell_type": "code",
   "execution_count": 59,
   "metadata": {},
   "outputs": [],
   "source": [
    "from scipy.spatial.transform import Rotation as R\n",
    "import cupoch as cph\n",
    "\n",
    "ROBOT_URDF_PATH = 'outputs/testdata/franka_panda_cupoch/panda.urdf'\n",
    "URDF_JOINT_PREFIX = 'panda_joint'\n",
    "\n",
    "path = os.path.join(ROOT, ROBOT_URDF_PATH)\n",
    "kin = cph.kinematics.KinematicChain(path)\n",
    "\n",
    "\n",
    "def get_tf_matrix(\n",
    "    translation:np.array,\n",
    "    rotation:np.array, \n",
    ") -> np.array:\n",
    "\n",
    "    r = R.from_rotvec(rotation)\n",
    "    r = r.as_matrix()\n",
    "\n",
    "    tf = np.eye(4)\n",
    "    tf[:3,:3] = r\n",
    "    tf[:3,3] = translation\n",
    "\n",
    "    return tf\n",
    "\n",
    "def manually_offset_base(ref:np.array, translation_offset) -> np.array:\n",
    "    offset = np.eye(4)\n",
    "    offset[:3, 3] = translation_offset\n",
    "    return np.dot(ref, offset)\n",
    "\n",
    "def get_mesh_using_forward_kinematics(\n",
    "    joints_positions:np.array,\n",
    "    global_position:np.array,\n",
    "    global_rotation:np.array\n",
    "):\n",
    "    global URDF_JOINT_PREFIX\n",
    "\n",
    "    # create joint_map, used for fk on urdf model\n",
    "    joint_map = {'%s%d' % (URDF_JOINT_PREFIX, i+1): val for i, val \\\n",
    "                in enumerate(joints_positions)} \n",
    "\n",
    "    # create transformation matrix\n",
    "    tf_matrix = get_tf_matrix(global_position, global_rotation)\n",
    "\n",
    "    # manual offset, to be removed \n",
    "    offset = np.array([0.04, 0.0, -0.068])\n",
    "    tf_matrix = manually_offset_base(tf_matrix, offset)\n",
    "    \n",
    "    # do forward kinematics\n",
    "    poses = kin.forward_kinematics(joint_map, tf_matrix)\n",
    "    \n",
    "    # store mesh geometries\n",
    "    meshes = kin.get_transformed_visual_geometry_map(poses)\n",
    "    \n",
    "    return list(meshes.values())"
   ]
  },
  {
   "cell_type": "markdown",
   "metadata": {},
   "source": [
    "## PCR"
   ]
  },
  {
   "cell_type": "code",
   "execution_count": 60,
   "metadata": {},
   "outputs": [],
   "source": [
    "def get_pcds_for_registration(obs):\n",
    "    global CAMERAS\n",
    "\n",
    "    pcds = list()\n",
    "    for CAMERA in CAMERAS:\n",
    "        camera_obs = obs[CAMERA]\n",
    "        pcd, rgb = get_pcd_and_rgb(camera_obs)\n",
    "        pcd = constrain_scene_bounds(pcd)\n",
    "        pcds.append(pcd)\n",
    "\n",
    "    return pcds\n",
    "\n",
    "pcds = get_pcds_for_registration(obs)"
   ]
  },
  {
   "cell_type": "code",
   "execution_count": 61,
   "metadata": {},
   "outputs": [
    {
     "name": "stdout",
     "output_type": "stream",
     "text": [
      "ICP (GPU) [sec]: 0.026146888732910156\n",
      "ICP (GPU) [sec]: 0.03260684013366699\n"
     ]
    }
   ],
   "source": [
    "def do_point_cloud_registration(pcds):\n",
    "    assert len(pcds) > 1\n",
    "    def register(\n",
    "        source_gpu:cph.geometry.PointCloud, \n",
    "        target_gpu:cph.geometry.PointCloud,\n",
    "    ) -> cph.geometry.PointCloud:\n",
    "\n",
    "        threshold = 0.02 # what does this do?\n",
    "        trans_init = np.asarray([[1.0, 0.0, 0.0, 0.0], [0.0, 1.0, 0.0, 0.0],\n",
    "                                [0.0, 0.0, 1.0, 0.0], [0.0, 0.0, 0.0, 1.0]])\n",
    "\n",
    "        # register pointclouds\n",
    "        start = time.time()\n",
    "        reg_p2p = cph.registration.registration_icp(\n",
    "            source_gpu,\n",
    "            target_gpu,\n",
    "            threshold,\n",
    "            trans_init.astype(np.float32),\n",
    "            cph.registration.TransformationEstimationPointToPlane(),\n",
    "        )\n",
    "\n",
    "        source_gpu.transform(reg_p2p.transformation)\n",
    "\n",
    "        # remove outliers\n",
    "        NEIGHBOURS = 2\n",
    "        source_gpu, ind = source_gpu.remove_statistical_outlier(nb_neighbors=NEIGHBOURS, std_ratio=2.0)\n",
    "        target_gpu, ind = target_gpu.remove_statistical_outlier(nb_neighbors=NEIGHBOURS, std_ratio=2.0)\n",
    "\n",
    "\n",
    "        elapsed_time = time.time() - start\n",
    "        print(\"ICP (GPU) [sec]:\", elapsed_time) # adding outlier removal adds ~25ms\n",
    "    \n",
    "        return source_gpu+target_gpu\n",
    "\n",
    "\n",
    "    # load first and second pcd\n",
    "    source_gpu = cph.geometry.PointCloud(\n",
    "        cph.utility.HostVector3fVector(pcds[0])\n",
    "    )\n",
    "    target_gpu = cph.geometry.PointCloud(\n",
    "        cph.utility.HostVector3fVector(pcds[1])\n",
    "    )\n",
    "    source_gpu = register(source_gpu, target_gpu)\n",
    "\n",
    "    # merge all other pcds with new source\n",
    "    for pcd in pcds[2:]:\n",
    "        target_gpu = cph.geometry.PointCloud(\n",
    "            cph.utility.HostVector3fVector(pcd)\n",
    "        )\n",
    "        source_gpu = register(source_gpu, target_gpu)\n",
    "\n",
    "\n",
    "    return source_gpu\n",
    "\n",
    "\n",
    "pcd = do_point_cloud_registration(pcds)"
   ]
  },
  {
   "cell_type": "markdown",
   "metadata": {},
   "source": [
    "## RBS"
   ]
  },
  {
   "cell_type": "code",
   "execution_count": 62,
   "metadata": {},
   "outputs": [
    {
     "name": "stdout",
     "output_type": "stream",
     "text": [
      "\n",
      "Agent: panda0\n",
      "empty mesh detected\n",
      "empty mesh detected\n",
      "RBS (CPU+GPU) [sec]: 0.02180027961730957\n",
      "\n",
      "Agent: panda1\n",
      "empty mesh detected\n",
      "empty mesh detected\n",
      "RBS (CPU+GPU) [sec]: 0.011800050735473633\n"
     ]
    }
   ],
   "source": [
    "def get_bb_from_mesh(\n",
    "    mesh:cph.geometry.TriangleMesh\n",
    ") -> cph.geometry.AxisAlignedBoundingBox:\n",
    "\n",
    "    AABB = mesh.get_axis_aligned_bounding_box()\n",
    "    if AABB.is_empty():\n",
    "        print('empty mesh detected')\n",
    "        return None       \n",
    "    else:\n",
    "        return AABB\n",
    "    \n",
    "\n",
    "def perform_rbs_on_pointcloud_using_bb(obs, pcd):\n",
    "\n",
    "    n = len(pcd.points)\n",
    "    masks = list()\n",
    "    meshes_list = list()\n",
    "    for agent in AGENTS:\n",
    "        print('\\nAgent: %s' % agent)\n",
    "        agent_obs = obs[agent]\n",
    "        \n",
    "        # get all meshes of the agent using fk\n",
    "        meshes = get_mesh_using_forward_kinematics(\n",
    "            agent_obs['joint_pos'],\n",
    "            agent_obs['global_pos'],\n",
    "            agent_obs['global_ang'],\n",
    "        )\n",
    "        meshes_list += meshes\n",
    "\n",
    "        # find points within BBs and create masks\n",
    "        start = time.time()\n",
    "        for mesh in meshes:\n",
    "            bb = get_bb_from_mesh(mesh)\n",
    "\n",
    "            if bb is not None:\n",
    "                mask = np.zeros(n, dtype=bool)\n",
    "\n",
    "                indices_points_within_bb = np.asarray(\n",
    "                    bb.get_point_indices_within_bounding_box(\n",
    "                        pcd.points\n",
    "                    ).cpu()\n",
    "                )\n",
    "                if len(indices_points_within_bb)>0:\n",
    "                    mask[indices_points_within_bb] = True\n",
    "                    masks.append(mask)\n",
    "\n",
    "        elapsed_time = time.time() - start\n",
    "        print(\"RBS (CPU+GPU) [sec]:\", elapsed_time)\n",
    "\n",
    "\n",
    "    mask = np.column_stack(tuple(masks)).any(axis=1)\n",
    "    mask = ~mask # inverting mask to get pcd which were not within any BBs\n",
    "    \n",
    "    pcd_arr = np.asarray(pcd.points.cpu())\n",
    "    NEIGHBOURS = 10\n",
    "    pcd = cph.geometry.PointCloud(cph.utility.HostVector3fVector(pcd_arr[mask]))\n",
    "    pcd = pcd.remove_statistical_outlier(nb_neighbors=NEIGHBOURS, std_ratio=10.0)\n",
    "    return  pcd[0], meshes_list\n",
    "\n",
    "rbs_pcd, meshes = perform_rbs_on_pointcloud_using_bb(obs, pcd)"
   ]
  },
  {
   "cell_type": "code",
   "execution_count": 63,
   "metadata": {},
   "outputs": [],
   "source": [
    "if SHOW_CPH_VIZ:\n",
    "    cph.visualization.draw_geometries([rbs_pcd]+meshes)"
   ]
  },
  {
   "cell_type": "markdown",
   "metadata": {},
   "source": [
    "## Voxelization"
   ]
  },
  {
   "cell_type": "code",
   "execution_count": 64,
   "metadata": {},
   "outputs": [
    {
     "name": "stdout",
     "output_type": "stream",
     "text": [
      "Voxelization (GPU) [sec]: 0.0063419342041015625\n"
     ]
    }
   ],
   "source": [
    "def convert_pointcloud_to_voxels(pcd):\n",
    "    cubic_size = 2.0\n",
    "    # voxel_resolution = 100.0\n",
    "    voxel_resolution = 30.0\n",
    "\n",
    "\n",
    "    voxel_size = cubic_size / voxel_resolution\n",
    "\n",
    "    # create voxel grid\n",
    "    start = time.time()\n",
    "    voxels = cph.geometry.VoxelGrid.create_from_point_cloud_within_bounds(\n",
    "        pcd,\n",
    "        voxel_size=cubic_size / voxel_resolution,\n",
    "        min_bound=(-cubic_size / 2, -cubic_size / 2, -cubic_size / 2),\n",
    "        max_bound=(cubic_size / 2, cubic_size / 2, cubic_size / 2),\n",
    "    )\n",
    "    elapsed_time = time.time() - start\n",
    "    print(\"Voxelization (GPU) [sec]:\", elapsed_time) # adding outlier removal adds ~25ms\n",
    "\n",
    "\n",
    "    return voxels, voxel_size\n",
    "\n",
    "voxels, voxel_size = convert_pointcloud_to_voxels(rbs_pcd)"
   ]
  },
  {
   "cell_type": "code",
   "execution_count": 65,
   "metadata": {},
   "outputs": [],
   "source": [
    "if SHOW_CPH_VIZ:\n",
    "    cph.visualization.draw_geometries([voxels])"
   ]
  },
  {
   "cell_type": "code",
   "execution_count": 67,
   "metadata": {},
   "outputs": [
    {
     "name": "stdout",
     "output_type": "stream",
     "text": [
      "Voxel2Sphere (CPU) [sec]: 0.02094292640686035\n",
      "-1.4999754 -1.4988322 -1.555519e-05\n",
      "1.4987465 1.4999558 1.4999748\n",
      "-1.5 -1.5 -0.03333326801657677\n",
      "1.5 1.5 1.5000000653167564\n"
     ]
    }
   ],
   "source": [
    "radius = 0.03\n",
    "VIZ = False\n",
    "\n",
    "if VIZ:\n",
    "    def voxel2sphere(voxels):\n",
    "        global voxel_size, radius\n",
    "        v = voxels.voxels.cpu()\n",
    "        offset = voxels.get_min_bound()\n",
    "\n",
    "        positions = np.array(list(v.keys()))\n",
    "\n",
    "        positions = (positions - np.array([min(positions[:,0]), min(positions[:,1]), min(positions[:,2])]))\n",
    "        positions = positions*voxel_size\n",
    "        positions += (offset + voxel_size/2)\n",
    "\n",
    "        spheres = cph.geometry.TriangleMesh.create_sphere(radius=0.01, resolution=5).translate(positions[0])\n",
    "        for pos in positions[1:]:\n",
    "            spheres += cph.geometry.TriangleMesh.create_sphere(\n",
    "                radius=radius, \n",
    "                resolution=5).translate(pos)\n",
    "        return spheres, positions\n",
    "\n",
    "    spheres, positions  = voxel2sphere(voxels)    \n",
    "\n",
    "    def meshColorscale(mesh):\n",
    "        vertices = np.asarray(mesh.vertices.cpu())\n",
    "        z_values = vertices[:, 2]\n",
    "\n",
    "        # Normalize the z values to range [0, 1]\n",
    "        z_min = z_values.min()\n",
    "        z_max = z_values.max()\n",
    "        z_norm = (z_values - z_min) / (z_max - z_min)\n",
    "\n",
    "        # Create a color map (using a matplotlib colormap, e.g., 'viridis')\n",
    "        cmap = plt.get_cmap('turbo')\n",
    "        colors = cmap(z_norm)[:, :3]  # Get RGB values\n",
    "\n",
    "        # Apply the colors to the mesh\n",
    "        mesh.vertex_colors = cph.utility.Vector3fVector(colors)\n",
    "        return mesh\n",
    "\n",
    "    spheres = meshColorscale(spheres)\n",
    "\n",
    "else:\n",
    "    def voxel2sphere(voxels):\n",
    "        global voxel_size\n",
    "        start = time.time()\n",
    "        v = voxels.voxels.cpu()\n",
    "        offset = voxels.get_min_bound()\n",
    "\n",
    "        positions = np.array(list(v.keys()))\n",
    "\n",
    "        positions = (positions - np.array([min(positions[:,0]), min(positions[:,1]), min(positions[:,2])]))\n",
    "        positions = positions*voxel_size\n",
    "        positions += (offset + voxel_size/2)\n",
    "\n",
    "        elapsed_time = time.time() - start\n",
    "        print(\"Voxel2Sphere (CPU) [sec]:\", elapsed_time) # adding outlier removal adds ~25ms\n",
    "\n",
    "        return positions\n",
    "\n",
    "    positions  = voxel2sphere(voxels)    \n",
    "\n",
    "p = np.array(pcd.points.cpu())\n",
    "print(min(p[:,0]),min(p[:,1]),min(p[:,2]))\n",
    "print(max(p[:,0]),max(p[:,1]),max(p[:,2]))\n",
    "\n",
    "print(min(positions[:,0]),min(positions[:,1]),min(positions[:,2]))\n",
    "print(max(positions[:,0]),max(positions[:,1]),max(positions[:,2]))"
   ]
  },
  {
   "cell_type": "code",
   "execution_count": 68,
   "metadata": {},
   "outputs": [],
   "source": [
    "if VIZ:\n",
    "    cph.visualization.draw_geometries([spheres])"
   ]
  },
  {
   "cell_type": "markdown",
   "metadata": {},
   "source": [
    "## Approximation Output"
   ]
  },
  {
   "cell_type": "code",
   "execution_count": 69,
   "metadata": {},
   "outputs": [],
   "source": [
    "import pickle\n",
    "OUTPUT_PATH = '../outputs/dualarms_3cam/obstacle_approx.pkl'\n",
    "\n",
    "with open(OUTPUT_PATH, 'wb') as f:\n",
    "    pickle.dump(positions, f)"
   ]
  },
  {
   "cell_type": "code",
   "execution_count": 70,
   "metadata": {},
   "outputs": [],
   "source": [
    "import yaml\n",
    "\n",
    "class YamlStringObject():\n",
    "    def __init__(self, obj:np.array):\n",
    "        global radius\n",
    "        self.pos = obj.tolist()\n",
    "        self.radius = radius * 2.0\n",
    "        self.vel = [0.0, 0.0, 0.0]\n",
    "        self.isep = '  '\n",
    "        self.osep = '      '\n",
    "\n",
    "    def dump(self):\n",
    "        string = f\"{self.osep}- pos: {self.pos}\"\n",
    "        string += f\"\\n{self.osep}{self.isep}radius: {self.radius}\"\n",
    "        string += f\"\\n{self.osep}{self.isep}vel: {self.vel}\"\n",
    "        return string\n",
    "\n",
    "yaml_str = \"    obstacles:\\n\"\n",
    "\n",
    "output_positions = positions + np.array([0.5, -0.2, 0.0])\n",
    "\n",
    "for pos in output_positions:\n",
    "    yaml_str += YamlStringObject(pos).dump()\n",
    "    yaml_str += '\\n'\n",
    "\n",
    "# print(yaml_str)"
   ]
  },
  {
   "cell_type": "code",
   "execution_count": 71,
   "metadata": {},
   "outputs": [],
   "source": [
    "OUTPUT_PATH = '../outputs/dualarms_3cam/obstacles.yaml'\n",
    "\n",
    "with open(OUTPUT_PATH, 'w+') as f:\n",
    "    f.write(yaml_str)"
   ]
  },
  {
   "cell_type": "code",
   "execution_count": 72,
   "metadata": {},
   "outputs": [],
   "source": [
    "TASKS_FILE = '../outputs/dualarms_3cam/dual_arms_static3.yaml'\n",
    "read_until = 1683\n",
    "\n",
    "with open(TASKS_FILE, 'r') as file:\n",
    "    contents = file.read()\n",
    "\n",
    "\n",
    "OUTPUT_PATH = '../outputs/dualarms_3cam/dual_arms_static3.yaml'\n",
    "with open(OUTPUT_PATH, 'w+') as f:\n",
    "    f.write(contents[:1683]+\"\\n\"+yaml_str)"
   ]
  },
  {
   "cell_type": "code",
   "execution_count": null,
   "metadata": {},
   "outputs": [],
   "source": []
  }
 ],
 "metadata": {
  "kernelspec": {
   "display_name": "peract_env",
   "language": "python",
   "name": "python3"
  },
  "language_info": {
   "codemirror_mode": {
    "name": "ipython",
    "version": 3
   },
   "file_extension": ".py",
   "mimetype": "text/x-python",
   "name": "python",
   "nbconvert_exporter": "python",
   "pygments_lexer": "ipython3",
   "version": "3.8.10"
  }
 },
 "nbformat": 4,
 "nbformat_minor": 2
}
